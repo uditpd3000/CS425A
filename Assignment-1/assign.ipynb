{
 "cells": [
  {
   "cell_type": "code",
   "execution_count": 9,
   "metadata": {},
   "outputs": [],
   "source": [
    "from cmath import log, log10\n",
    "import numpy as np\n",
    "import matplotlib.pyplot as plt"
   ]
  },
  {
   "cell_type": "markdown",
   "metadata": {},
   "source": [
    "Importing all the required tools\n",
    "Matplotlin for plotting the graph\n",
    "Numpy for best fit line and other simplifications"
   ]
  },
  {
   "cell_type": "code",
   "execution_count": 10,
   "metadata": {},
   "outputs": [],
   "source": [
    "X=[1.15,1.15,1.15,1.15,1.15,2.3,2.3,2.3,2.3,2.3,3.45,3.45,3.45,3.45,3.45,4.6,4.6,4.6,4.6,4.6,5.75,5.75,5.75,5.75,5.75,6.9,6.9,6.9,6.9,6.9,8.05,8.05,8.05,8.05,8.05,9.2,9.2,9.2,9.2,9.2,10.35,10.35,10.35,10.35,10.35,11.5,11.5,11.5,11.5,11.5]\n",
    "Y=np.array([-45,-51,-52,-56,-56,-59,-55,-55,-60,-55,-62,-56,-60,-58,-61,-60,-63,-59,-64,-60,-62,-59,-65,-63,-68,-61,-62,-58,-70,-65,-71,-67,-68,-63,-74,-71,-67,-70,-66,-72,-74,-68,-69,-71,-73,-70,-79,-76,-75,-76])\n",
    "x1=np.log10(X)"
   ]
  },
  {
   "cell_type": "markdown",
   "metadata": {},
   "source": [
    "X and Y are respectilvely distances and power recieved"
   ]
  },
  {
   "cell_type": "code",
   "execution_count": 11,
   "metadata": {},
   "outputs": [],
   "source": [
    "a1,a2= np.polyfit(x1,Y,1)"
   ]
  },
  {
   "cell_type": "markdown",
   "metadata": {},
   "source": [
    "using polyfit to fit a straight line for the given data"
   ]
  },
  {
   "cell_type": "code",
   "execution_count": 12,
   "metadata": {},
   "outputs": [
    {
     "data": {
      "image/png": "[encoded data removed]",
      "text/plain": [
       "<Figure size 432x288 with 1 Axes>"
      ]
     },
     "metadata": {
      "needs_background": "light"
     },
     "output_type": "display_data"
    },
    {
     "name": "stdout",
     "output_type": "stream",
     "text": [
      "2.1240163289767566\n"
     ]
    }
   ],
   "source": [
    "plt.scatter(x1,Y,color=\"black\")\n",
    "plt.plot(x1,a1*x1+a2,color=\"orange\")\n",
    "plt.xlabel(\"log10(d)\")\n",
    "plt.ylabel(\"Power(dBm)\")\n",
    "plt.title(\"RSSI values\")\n",
    "plt.show()\n",
    "\n",
    "n= a1/-10\n",
    "print(n)"
   ]
  },
  {
   "cell_type": "markdown",
   "metadata": {},
   "source": [
    "a1 is the slope and n is the path loss exponent"
   ]
  },
  {
   "cell_type": "code",
   "execution_count": 13,
   "metadata": {},
   "outputs": [
    {
     "name": "stdout",
     "output_type": "stream",
     "text": [
      "12.53064202724147\n"
     ]
    }
   ],
   "source": [
    "var = []\n",
    "for i in range(len(X)):\n",
    "    var.append((Y[i]-(a1*x1[i]+a2))**2)\n",
    "varianc= np.average(var)\n",
    "print(varianc)"
   ]
  },
  {
   "cell_type": "code",
   "execution_count": 14,
   "metadata": {},
   "outputs": [],
   "source": [
    "Pr_d0 = -50.2"
   ]
  },
  {
   "cell_type": "markdown",
   "metadata": {},
   "source": [
    "Pr_d0= Power recieved at 1m, I have used the average value after taking 5 data."
   ]
  },
  {
   "cell_type": "code",
   "execution_count": 15,
   "metadata": {},
   "outputs": [
    {
     "name": "stdout",
     "output_type": "stream",
     "text": [
      "1.9054641026183443\n"
     ]
    }
   ],
   "source": [
    "errors=[]\n",
    "dist=[2.3,4.6,6.9,9.2,11.5]\n",
    "pr_d=[-55,-59,-63,-68,-74]\n",
    "for i in range (5):\n",
    "    z = pr_d[i]-Pr_d0\n",
    "    z = z/a1\n",
    "    calc_dist = pow(10,z)\n",
    "    err = calc_dist-dist[i]\n",
    "    errors.append(abs(err))\n",
    "avg_error= np.average(errors)\n",
    "print(avg_error)"
   ]
  },
  {
   "cell_type": "markdown",
   "metadata": {},
   "source": []
  }
 ],
 "metadata": {
  "interpreter": {
   "hash": "916dbcbb3f70747c44a77c7bcd40155683ae19c65e1c03b4aa3499c5328201f1"
  },
  "kernelspec": {
   "display_name": "Python 3.8.10 64-bit",
   "language": "python",
   "name": "python3"
  },
  "language_info": {
   "codemirror_mode": {
    "name": "ipython",
    "version": 3
   },
   "file_extension": ".py",
   "mimetype": "text/x-python",
   "name": "python",
   "nbconvert_exporter": "python",
   "pygments_lexer": "ipython3",
   "version": "3.8.10"
  },
  "orig_nbformat": 4
 },
 "nbformat": 4,
 "nbformat_minor": 2
}
